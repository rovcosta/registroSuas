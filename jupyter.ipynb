{
 "cells": [
  {
   "cell_type": "code",
   "execution_count": 101,
   "metadata": {},
   "outputs": [],
   "source": [
    "import pandas as pd\n",
    "def importAcoes():\n",
    "    link_registros ='https://docs.google.com/spreadsheets/d/e/2PACX-1vSSSzbKEW5XI8PKTj9mueR1cGi_GlTeUOmWVYIm9-i-zbCoZpelscZv_YSj4MXVcf4kN-_VY0AFpNDm/pub?gid=1021085548&single=true&output=csv'\n",
    "    reg = pd.read_csv(link_registros)\n",
    "    df_acoes = reg[['Carimbo de data/hora','DATA:','PROFISSIONAL:','email','SETOR','MUNICÍPIO','AÇÃO REALIZADA:',\n",
    "        '1.Apoio Técnico Presencial (ATP)','1.1 - Nº de profissionais atendidos(ATP)','1.2 - Descrição da Ação (ATP)',\n",
    "        '2.Apoio Técnico Não Presencial (ATNP)','2.1 - Nº de profissionais atendidos(ATNP)','2.2 - Descrição da Ação (ATNP)',\n",
    "        '3.Outras Ações','3.1 - Nº de profissionais atendidos (Outras ações)','3.2 - Descrição da Ação (Outras)'\n",
    "        ]].copy()\n",
    "    df_acoes = df_acoes.rename(columns={'Carimbo de data/hora':'data_publicacao','DATA:':'data_acao','PROFISSIONAL:':'nome_profissional','SETOR':'sector_name','MUNICÍPIO':'municipio_atendido'})\n",
    "    \n",
    "    ### Altera o nome de alguams colunas\n",
    "    dic_acao = {'1.Apoio Técnico Presencial (ATP)': 'Apoio Tecnico Presencial (ATP)',\n",
    "    '2.Apoio Técnico Não Presencial (ATNP)':'Apoio Tecnico Não Presencial (ATNP)',\n",
    "    '3.Outras Ações': 'Outras Ações'}\n",
    "    df_acoes['acao_realizada'] = df_acoes['AÇÃO REALIZADA:'].map(dic_acao)\n",
    "\n",
    "    ### NOVA COLUNA 1 - Cria a coluna 'caracteristica_acao' que vai importar os valores de 3 colunas diferentes baseadas no tipo de apoio técnico\n",
    "    mask1 = (df_acoes['acao_realizada']=='Apoio Tecnico Presencial (ATP)')\n",
    "    mask2 = (df_acoes['acao_realizada']=='Apoio Tecnico Não Presencial (ATNP)')\n",
    "    mask3 = (df_acoes['acao_realizada']=='Outras Ações')\n",
    "    list_mask = [mask1,mask2,mask3]\n",
    "    list_col_use = ['1.Apoio Técnico Presencial (ATP)','2.Apoio Técnico Não Presencial (ATNP)','3.Outras Ações']\n",
    "    for mask, col in zip(list_mask,list_col_use):\n",
    "        df_acoes.loc[mask, 'caracteristica_acao'] = df_acoes[col]\n",
    "\n",
    "    ### NOVA COLUNA 2 - Cria a coluna 'descricao_acao' que vai importar os valores de 3 colunas diferentes baseadas no tipo de apoio técnico\n",
    "    mask1 = (df_acoes['acao_realizada']=='Apoio Tecnico Presencial (ATP)')\n",
    "    mask2 = (df_acoes['acao_realizada']=='Apoio Tecnico Não Presencial (ATNP)')\n",
    "    mask3 = (df_acoes['acao_realizada']=='Outras Ações')\n",
    "\n",
    "    list_mask = [mask1,mask2,mask3]\n",
    "    list_col_use = ['1.2 - Descrição da Ação (ATP)','2.2 - Descrição da Ação (ATNP)','3.2 - Descrição da Ação (Outras)']\n",
    "\n",
    "    for mask, col in zip(list_mask,list_col_use):\n",
    "        df_acoes.loc[mask, 'descricao_acao'] = df_acoes[col]\n",
    "    \n",
    "    ### NOVA COLUNA 3 - Cria a coluna 'n_profissionais_atendidos' que vai importar os valores de 3 colunas diferentes baseadas no tipo de apoio técnico\n",
    "    mask1 = (df_acoes['acao_realizada']=='Apoio Tecnico Presencial (ATP)')\n",
    "    mask2 = (df_acoes['acao_realizada']=='Apoio Tecnico Não Presencial (ATNP)')\n",
    "    mask3 = (df_acoes['acao_realizada']=='Outras Ações')\n",
    "\n",
    "    list_mask = [mask1,mask2,mask3]\n",
    "    list_col_use = ['1.1 - Nº de profissionais atendidos(ATP)','2.1 - Nº de profissionais atendidos(ATNP)','3.1 - Nº de profissionais atendidos (Outras ações)']\n",
    "\n",
    "    for mask, col in zip(list_mask,list_col_use):\n",
    "        df_acoes.loc[mask, 'n_profissionais_atendidos'] = df_acoes[col]\n",
    "        \n",
    "    # cria coluna 'user_id' para ser usada no futuro\n",
    "    # df_acoes['user_id'] = ''\n",
    "    ## finaliza a base e armazena na variavel 'data'\n",
    "    data = df_acoes[['nome_profissional','email','acao_realizada','caracteristica_acao','n_profissionais_atendidos','descricao_acao',\n",
    "        'data_acao','data_publicacao','municipio_atendido']].copy()\n",
    "        \n",
    "    data.caracteristica_acao = data.caracteristica_acao.fillna('vazio')\n",
    "    data.n_profissionais_atendidos   = data.n_profissionais_atendidos.fillna(0)\n",
    "    \n",
    "    return data"
   ]
  },
  {
   "cell_type": "code",
   "execution_count": 159,
   "metadata": {},
   "outputs": [],
   "source": [
    "data = importAcoes()"
   ]
  },
  {
   "cell_type": "code",
   "execution_count": 167,
   "metadata": {},
   "outputs": [],
   "source": [
    "data = importAcoes()\n",
    "users_data= pd.read_csv('export_users_from_model.csv')\n",
    "## Pega os 'id' dos usuários registrados e cria uma coluna 'id' na base do ru importada do drive para ser usado para inserir os dados baseados no numero do id\n",
    "data = data.merge(users_data[['email','id']], how='left', left_on='email', right_on='email' )\n",
    "data.id = pd.to_numeric(data.id, errors='coerce').astype('Int64')\n",
    "\n",
    "# users_data = users_data.drop(users_data[users_data.username == 'test'].index)"
   ]
  },
  {
   "cell_type": "code",
   "execution_count": 174,
   "metadata": {},
   "outputs": [
    {
     "name": "stdout",
     "output_type": "stream",
     "text": [
      "1\n",
      "2\n",
      "3\n",
      "4\n",
      "5\n",
      "6\n",
      "7\n",
      "8\n",
      "9\n",
      "10\n",
      "11\n",
      "12\n",
      "13\n",
      "14\n",
      "15\n",
      "16\n",
      "17\n",
      "18\n",
      "19\n",
      "20\n",
      "21\n",
      "22\n",
      "23\n",
      "24\n",
      "25\n",
      "26\n",
      "27\n",
      "28\n",
      "29\n",
      "30\n",
      "31\n",
      "32\n",
      "33\n",
      "34\n",
      "35\n",
      "36\n",
      "37\n",
      "38\n",
      "39\n",
      "40\n",
      "41\n",
      "42\n",
      "43\n",
      "44\n",
      "45\n",
      "46\n",
      "47\n",
      "48\n"
     ]
    }
   ],
   "source": [
    "for id in users_data['id']:\n",
    "    if id == data['id'].values:\n",
    "        print(id)\n"
   ]
  },
  {
   "cell_type": "code",
   "execution_count": null,
   "metadata": {},
   "outputs": [],
   "source": []
  }
 ],
 "metadata": {
  "kernelspec": {
   "display_name": "Python 3.10.2 ('SUAS_ENV')",
   "language": "python",
   "name": "python3"
  },
  "language_info": {
   "codemirror_mode": {
    "name": "ipython",
    "version": 3
   },
   "file_extension": ".py",
   "mimetype": "text/x-python",
   "name": "python",
   "nbconvert_exporter": "python",
   "pygments_lexer": "ipython3",
   "version": "3.10.2"
  },
  "orig_nbformat": 4,
  "vscode": {
   "interpreter": {
    "hash": "4356fe1dcce78bc35ab04f8edc528da205a4b7043013b17063cc01aea3dbe637"
   }
  }
 },
 "nbformat": 4,
 "nbformat_minor": 2
}
